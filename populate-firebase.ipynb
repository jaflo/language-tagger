{
 "cells": [
  {
   "cell_type": "code",
   "execution_count": 1,
   "metadata": {},
   "outputs": [
    {
     "name": "stdout",
     "output_type": "stream",
     "text": [
      "Requirement already satisfied: requests in /usr/local/lib/python3.7/site-packages (2.22.0)\n",
      "Requirement already satisfied: BeautifulSoup4 in /usr/local/lib/python3.7/site-packages (4.8.0)\n",
      "Requirement already satisfied: certifi>=2017.4.17 in /usr/local/lib/python3.7/site-packages (from requests) (2019.6.16)\n",
      "Requirement already satisfied: urllib3!=1.25.0,!=1.25.1,<1.26,>=1.21.1 in /usr/local/lib/python3.7/site-packages (from requests) (1.25.3)\n",
      "Requirement already satisfied: idna<2.9,>=2.5 in /usr/local/lib/python3.7/site-packages (from requests) (2.8)\n",
      "Requirement already satisfied: chardet<3.1.0,>=3.0.2 in /usr/local/lib/python3.7/site-packages (from requests) (3.0.4)\n",
      "Requirement already satisfied: soupsieve>=1.2 in /usr/local/lib/python3.7/site-packages (from BeautifulSoup4) (1.9.2)\n"
     ]
    }
   ],
   "source": [
    "!pip install requests BeautifulSoup4\n",
    "\n",
    "import urllib.request, json, re\n",
    "import requests\n",
    "from bs4 import BeautifulSoup\n",
    "from random import shuffle\n",
    "from tqdm import tqdm"
   ]
  },
  {
   "cell_type": "code",
   "execution_count": 2,
   "metadata": {},
   "outputs": [
    {
     "name": "stdout",
     "output_type": "stream",
     "text": [
      "Requirement already up-to-date: firebase-admin in /usr/local/lib/python3.7/site-packages (3.1.0)\n",
      "Requirement already satisfied, skipping upgrade: google-api-python-client>=1.7.8 in /usr/local/lib/python3.7/site-packages (from firebase-admin) (1.7.11)\n",
      "Requirement already satisfied, skipping upgrade: six>=1.6.1 in /usr/local/lib/python3.7/site-packages (from firebase-admin) (1.12.0)\n",
      "Requirement already satisfied, skipping upgrade: cachecontrol>=0.12.4 in /usr/local/lib/python3.7/site-packages (from firebase-admin) (0.12.5)\n",
      "Requirement already satisfied, skipping upgrade: google-cloud-storage>=1.18.0 in /usr/local/lib/python3.7/site-packages (from firebase-admin) (1.20.0)\n",
      "Requirement already satisfied, skipping upgrade: google-api-core[grpc]<2.0.0dev,>=1.14.0; platform_python_implementation != \"PyPy\" in /usr/local/lib/python3.7/site-packages (from firebase-admin) (1.14.3)\n",
      "Requirement already satisfied, skipping upgrade: google-cloud-firestore>=1.4.0; platform_python_implementation != \"PyPy\" in /usr/local/lib/python3.7/site-packages (from firebase-admin) (1.5.0)\n",
      "Requirement already satisfied, skipping upgrade: google-auth-httplib2>=0.0.3 in /usr/local/lib/python3.7/site-packages (from google-api-python-client>=1.7.8->firebase-admin) (0.0.3)\n",
      "Requirement already satisfied, skipping upgrade: uritemplate<4dev,>=3.0.0 in /usr/local/lib/python3.7/site-packages (from google-api-python-client>=1.7.8->firebase-admin) (3.0.0)\n",
      "Requirement already satisfied, skipping upgrade: httplib2<1dev,>=0.9.2 in /usr/local/lib/python3.7/site-packages (from google-api-python-client>=1.7.8->firebase-admin) (0.14.0)\n",
      "Requirement already satisfied, skipping upgrade: google-auth>=1.4.1 in /usr/local/lib/python3.7/site-packages (from google-api-python-client>=1.7.8->firebase-admin) (1.6.3)\n",
      "Requirement already satisfied, skipping upgrade: msgpack in /usr/local/lib/python3.7/site-packages (from cachecontrol>=0.12.4->firebase-admin) (0.6.2)\n",
      "Requirement already satisfied, skipping upgrade: requests in /usr/local/lib/python3.7/site-packages (from cachecontrol>=0.12.4->firebase-admin) (2.22.0)\n",
      "Requirement already satisfied, skipping upgrade: google-resumable-media!=0.4.0,<0.5dev,>=0.3.1 in /usr/local/lib/python3.7/site-packages (from google-cloud-storage>=1.18.0->firebase-admin) (0.4.1)\n",
      "Requirement already satisfied, skipping upgrade: google-cloud-core<2.0dev,>=1.0.3 in /usr/local/lib/python3.7/site-packages (from google-cloud-storage>=1.18.0->firebase-admin) (1.0.3)\n",
      "Requirement already satisfied, skipping upgrade: pytz in /usr/local/lib/python3.7/site-packages (from google-api-core[grpc]<2.0.0dev,>=1.14.0; platform_python_implementation != \"PyPy\"->firebase-admin) (2019.1)\n",
      "Requirement already satisfied, skipping upgrade: protobuf>=3.4.0 in /usr/local/lib/python3.7/site-packages (from google-api-core[grpc]<2.0.0dev,>=1.14.0; platform_python_implementation != \"PyPy\"->firebase-admin) (3.10.0)\n",
      "Requirement already satisfied, skipping upgrade: googleapis-common-protos<2.0dev,>=1.6.0 in /usr/local/lib/python3.7/site-packages (from google-api-core[grpc]<2.0.0dev,>=1.14.0; platform_python_implementation != \"PyPy\"->firebase-admin) (1.6.0)\n",
      "Requirement already satisfied, skipping upgrade: setuptools>=34.0.0 in /usr/local/lib/python3.7/site-packages (from google-api-core[grpc]<2.0.0dev,>=1.14.0; platform_python_implementation != \"PyPy\"->firebase-admin) (41.6.0)\n",
      "Requirement already satisfied, skipping upgrade: grpcio<2.0dev,>=1.8.2; extra == \"grpc\" in /usr/local/lib/python3.7/site-packages (from google-api-core[grpc]<2.0.0dev,>=1.14.0; platform_python_implementation != \"PyPy\"->firebase-admin) (1.24.1)\n",
      "Requirement already satisfied, skipping upgrade: cachetools>=2.0.0 in /usr/local/lib/python3.7/site-packages (from google-auth>=1.4.1->google-api-python-client>=1.7.8->firebase-admin) (3.1.1)\n",
      "Requirement already satisfied, skipping upgrade: pyasn1-modules>=0.2.1 in /usr/local/lib/python3.7/site-packages (from google-auth>=1.4.1->google-api-python-client>=1.7.8->firebase-admin) (0.2.7)\n",
      "Requirement already satisfied, skipping upgrade: rsa>=3.1.4 in /usr/local/lib/python3.7/site-packages (from google-auth>=1.4.1->google-api-python-client>=1.7.8->firebase-admin) (4.0)\n",
      "Requirement already satisfied, skipping upgrade: certifi>=2017.4.17 in /usr/local/lib/python3.7/site-packages (from requests->cachecontrol>=0.12.4->firebase-admin) (2019.6.16)\n",
      "Requirement already satisfied, skipping upgrade: chardet<3.1.0,>=3.0.2 in /usr/local/lib/python3.7/site-packages (from requests->cachecontrol>=0.12.4->firebase-admin) (3.0.4)\n",
      "Requirement already satisfied, skipping upgrade: idna<2.9,>=2.5 in /usr/local/lib/python3.7/site-packages (from requests->cachecontrol>=0.12.4->firebase-admin) (2.8)\n",
      "Requirement already satisfied, skipping upgrade: urllib3!=1.25.0,!=1.25.1,<1.26,>=1.21.1 in /usr/local/lib/python3.7/site-packages (from requests->cachecontrol>=0.12.4->firebase-admin) (1.25.3)\n",
      "Requirement already satisfied, skipping upgrade: pyasn1<0.5.0,>=0.4.6 in /usr/local/lib/python3.7/site-packages (from pyasn1-modules>=0.2.1->google-auth>=1.4.1->google-api-python-client>=1.7.8->firebase-admin) (0.4.7)\n"
     ]
    }
   ],
   "source": [
    "!pip install --upgrade firebase-admin\n",
    "\n",
    "import firebase_admin\n",
    "from firebase_admin import credentials\n",
    "from firebase_admin import firestore\n",
    "\n",
    "# Use a service account\n",
    "cred = credentials.Certificate('tagger-12345-firebase-adminsdk-abcde-111aaa22bbb.json')\n",
    "firebase_admin.initialize_app(cred)\n",
    "\n",
    "db = firestore.client()"
   ]
  },
  {
   "cell_type": "code",
   "execution_count": 3,
   "metadata": {},
   "outputs": [
    {
     "name": "stderr",
     "output_type": "stream",
     "text": [
      "/usr/local/lib/python3.7/site-packages/ipykernel_launcher.py:2: DeprecationWarning: 'Query.get' is deprecated:  please use 'Query.stream' instead.\n",
      "  \n"
     ]
    }
   ],
   "source": [
    "# Use this only to clear an existing DB (deletes everything!)\n",
    "\n",
    "# def delete_collection(coll_ref, batch_size):\n",
    "#     docs = coll_ref.limit(batch_size).get()\n",
    "#     deleted = 0\n",
    "\n",
    "#     for doc in docs:\n",
    "#         doc.reference.delete()\n",
    "#         deleted = deleted + 1\n",
    "\n",
    "#     if deleted >= batch_size:\n",
    "#         return delete_collection(coll_ref, batch_size)\n",
    "\n",
    "# for col in [\"articles\", \"users\", \"meta\"]:\n",
    "#     delete_collection(db.collection(col), 200)"
   ]
  },
  {
   "cell_type": "code",
   "execution_count": 4,
   "metadata": {},
   "outputs": [
    {
     "data": {
      "text/plain": [
       "(135,\n",
       " ['functions-continuous-deployment',\n",
       "  'functions-bindings-cosmosdb',\n",
       "  'functions-integrate-storage-queue-output-binding'])"
      ]
     },
     "execution_count": 4,
     "metadata": {},
     "output_type": "execute_result"
    }
   ],
   "source": [
    "base_url = \"https://docs.microsoft.com/de-de/azure/azure-functions/\"\n",
    "hrefs = []\n",
    "\n",
    "def recurse(node):\n",
    "    if \"children\" in node:\n",
    "        for child in node[\"children\"]:\n",
    "            recurse(child)\n",
    "    elif not node[\"href\"].startswith(\".\") and not node[\"href\"].startswith(\"http\"):\n",
    "        hrefs.append(node[\"href\"])\n",
    "\n",
    "with urllib.request.urlopen(base_url + \"toc.json\") as url:\n",
    "    data = json.loads(url.read().decode())\n",
    "    for cat in data[\"items\"]:\n",
    "        recurse(cat)\n",
    "\n",
    "shuffle(hrefs)\n",
    "len(hrefs), hrefs[:3]"
   ]
  },
  {
   "cell_type": "code",
   "execution_count": 5,
   "metadata": {},
   "outputs": [
    {
     "data": {
      "text/plain": [
       "['Wenn Sie nur die Hauptversion („~2“ für 2.x oder „~1“ für 1.x) angeben, wird die Funktions-App automatisch auf neue Nebenversionen der Runtime aktualisiert, sobald diese verfügbar werden. Eine Änderung an der Runtimeversion bewirkt, dass eine Funktionen-App neu gestartet wird. Gehen Sie folgendermaßen vor, um die zurzeit von einer Funktions-App verwendete Runtimeversion anzuzeigen und zu aktualisieren. Wählen Sie unter Konfigurierte Features die Option Funktionen-App-Einstellungen aus. Um Ihre Funktions-App an die Runtime der Version 1.x anzuheften, wählen Sie ~1 unter Laufzeitversion aus.']"
      ]
     },
     "execution_count": 5,
     "metadata": {},
     "output_type": "execute_result"
    }
   ],
   "source": [
    "def get_docs(url):\n",
    "    docs = []\n",
    "\n",
    "    r = requests.get(url)\n",
    "    html = r.text.encode(r.encoding)\n",
    "    soup = BeautifulSoup(html, \"html.parser\")\n",
    "\n",
    "    main = soup.find(\"main\")\n",
    "    if not main:\n",
    "        return []\n",
    "    paragraphs = main.find_all(\"p\")\n",
    "\n",
    "    doc = \"\"\n",
    "    length = 0\n",
    "\n",
    "    for p in paragraphs:\n",
    "        if not p.find(\"span\") or p.find(\"code\") or p.find(\"a\"):\n",
    "            continue\n",
    "        subtext = p.find(\"span\").text.strip()\n",
    "        added_len = len(subtext.split(\" \"))\n",
    "        if added_len < 8:\n",
    "            continue\n",
    "        if length + added_len > 100:\n",
    "            docs.append(doc.strip())\n",
    "            doc = \"\"\n",
    "            length = 0\n",
    "        else:\n",
    "            doc += subtext + \" \"\n",
    "            length += added_len\n",
    "\n",
    "    if length > 100:\n",
    "        docs.append(doc.strip())\n",
    "\n",
    "    return docs\n",
    "\n",
    "get_docs(base_url + hrefs[5])"
   ]
  },
  {
   "cell_type": "code",
   "execution_count": 6,
   "metadata": {},
   "outputs": [
    {
     "name": "stderr",
     "output_type": "stream",
     "text": [
      "100%|██████████| 135/135 [01:01<00:00,  2.01it/s]\n"
     ]
    },
    {
     "data": {
      "text/plain": [
       "235"
      ]
     },
     "execution_count": 6,
     "metadata": {},
     "output_type": "execute_result"
    }
   ],
   "source": [
    "complete = []\n",
    "\n",
    "for href in tqdm(hrefs):\n",
    "    doc_url = base_url + href\n",
    "    docs = get_docs(doc_url)\n",
    "    \n",
    "    for doc in docs:\n",
    "        complete.append((doc_url, doc))\n",
    "    \n",
    "len(complete)"
   ]
  },
  {
   "cell_type": "code",
   "execution_count": 7,
   "metadata": {},
   "outputs": [
    {
     "data": {
      "text/plain": [
       "[{'complete': 'Continuous', 'word': 'Continuous', 'addBlank': True},\n",
       " {'complete': 'Deployment', 'word': 'Deployment', 'addBlank': True},\n",
       " {'complete': 'eignet', 'word': 'eignet', 'addBlank': True},\n",
       " {'complete': 'sich', 'word': 'sich', 'addBlank': True},\n",
       " {'complete': 'hervorragend', 'word': 'hervorragend', 'addBlank': True}]"
      ]
     },
     "execution_count": 7,
     "metadata": {},
     "output_type": "execute_result"
    }
   ],
   "source": [
    "def process(doc):\n",
    "    split = re.split(r\"([^A-Za-zÀ-ž]+)\", doc)\n",
    "    allWords = []\n",
    "    for s in split:\n",
    "        base = re.sub(r\"[^A-Za-zÀ-ž]+\", \"\", s)\n",
    "        if s:\n",
    "            allWords.append({\n",
    "                \"complete\": s,\n",
    "                \"word\": base,\n",
    "            })\n",
    "    words = []\n",
    "    skipNext = False\n",
    "    for i, word in enumerate(allWords):\n",
    "        if skipNext:\n",
    "            skipNext = False\n",
    "            continue\n",
    "        followedByBlank = i < len(allWords) -1 \\\n",
    "            and allWords[i + 1][\"complete\"] == \" \"\n",
    "        if followedByBlank:\n",
    "            skipNext = True\n",
    "        words.append({\n",
    "            \"complete\": word[\"complete\"],\n",
    "            \"word\": word[\"word\"],\n",
    "            \"addBlank\": followedByBlank,\n",
    "        })\n",
    "    return words\n",
    "\n",
    "process(complete[0][1])[:5]"
   ]
  },
  {
   "cell_type": "code",
   "execution_count": 8,
   "metadata": {},
   "outputs": [
    {
     "name": "stderr",
     "output_type": "stream",
     "text": [
      " 37%|███▋      | 88/235 [00:21<00:31,  4.71it/s]"
     ]
    },
    {
     "name": "stdout",
     "output_type": "stream",
     "text": [
      "Stopping prematurely\n",
      "Upload complete!\n",
      "88 documents\n",
      "10078 words\n"
     ]
    }
   ],
   "source": [
    "totalWordCount = 0\n",
    "totalDocCount = 0\n",
    "\n",
    "for url, doc in tqdm(complete):\n",
    "    words = process(doc)\n",
    "    \n",
    "    if totalWordCount > 10000:\n",
    "        print(\"Stopping prematurely\")\n",
    "        break\n",
    "\n",
    "    db.collection(u'articles').add({\n",
    "        u'original': doc,\n",
    "        u'url': url,\n",
    "        u'words': words,\n",
    "        u'annotatorCount': 0,\n",
    "        u'annotators': []\n",
    "    })\n",
    "    totalWordCount += len(words)\n",
    "    totalDocCount += 1\n",
    "\n",
    "db.collection(u'meta').document(u'information').set({\n",
    "    u'documents': totalDocCount,\n",
    "    u'words': totalWordCount,\n",
    "})\n",
    "\n",
    "print(\"Upload complete!\")\n",
    "print(totalDocCount, \"documents\")\n",
    "print(totalWordCount, \"words\")"
   ]
  }
 ],
 "metadata": {
  "kernelspec": {
   "display_name": "Python 3",
   "language": "python",
   "name": "python3"
  },
  "language_info": {
   "codemirror_mode": {
    "name": "ipython",
    "version": 3
   },
   "file_extension": ".py",
   "mimetype": "text/x-python",
   "name": "python",
   "nbconvert_exporter": "python",
   "pygments_lexer": "ipython3",
   "version": "3.7.5"
  }
 },
 "nbformat": 4,
 "nbformat_minor": 2
}